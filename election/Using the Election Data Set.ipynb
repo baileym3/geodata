{
 "cells": [
  {
   "cell_type": "code",
   "execution_count": 16,
   "metadata": {},
   "outputs": [],
   "source": [
    "import pandas as pd\n",
    "import numpy as np\n",
    "import matplotlib.pyplot as plt\n",
    "\n",
    "import geopandas"
   ]
  },
  {
   "cell_type": "markdown",
   "metadata": {},
   "source": [
    "# Example: Tallying Bishop's (The Big Sort) landslide counties by year:"
   ]
  },
  {
   "cell_type": "code",
   "execution_count": 11,
   "metadata": {},
   "outputs": [
    {
     "data": {
      "text/html": [
       "<div>\n",
       "<style scoped>\n",
       "    .dataframe tbody tr th:only-of-type {\n",
       "        vertical-align: middle;\n",
       "    }\n",
       "\n",
       "    .dataframe tbody tr th {\n",
       "        vertical-align: top;\n",
       "    }\n",
       "\n",
       "    .dataframe thead th {\n",
       "        text-align: right;\n",
       "    }\n",
       "</style>\n",
       "<table border=\"1\" class=\"dataframe\">\n",
       "  <thead>\n",
       "    <tr style=\"text-align: right;\">\n",
       "      <th></th>\n",
       "      <th>FIPS</th>\n",
       "      <th>gop_2000_votes</th>\n",
       "      <th>dem_2000_votes</th>\n",
       "      <th>totalvotes_2000</th>\n",
       "      <th>gop_2000_prc</th>\n",
       "      <th>dem_2000_prc</th>\n",
       "      <th>gop_minus_dem_prc_2000</th>\n",
       "      <th>gop_2004_votes</th>\n",
       "      <th>dem_2004_votes</th>\n",
       "      <th>totalvotes_2004</th>\n",
       "      <th>...</th>\n",
       "      <th>totalvotes_2012</th>\n",
       "      <th>gop_2012_prc</th>\n",
       "      <th>dem_2012_prc</th>\n",
       "      <th>gop_minus_dem_prc_2012</th>\n",
       "      <th>gop_2016_votes</th>\n",
       "      <th>dem_2016_votes</th>\n",
       "      <th>totalvotes_2016</th>\n",
       "      <th>gop_2016_prc</th>\n",
       "      <th>dem_2016_prc</th>\n",
       "      <th>gop_minus_dem_prc_2016</th>\n",
       "    </tr>\n",
       "  </thead>\n",
       "  <tbody>\n",
       "    <tr>\n",
       "      <th>0</th>\n",
       "      <td>01001</td>\n",
       "      <td>11993.0</td>\n",
       "      <td>4942.0</td>\n",
       "      <td>17208.0</td>\n",
       "      <td>69.69</td>\n",
       "      <td>28.72</td>\n",
       "      <td>40.97</td>\n",
       "      <td>15196.0</td>\n",
       "      <td>4758.0</td>\n",
       "      <td>20081.0</td>\n",
       "      <td>...</td>\n",
       "      <td>23932.0</td>\n",
       "      <td>72.62</td>\n",
       "      <td>26.59</td>\n",
       "      <td>46.03</td>\n",
       "      <td>18172.0</td>\n",
       "      <td>5936.0</td>\n",
       "      <td>24973.0</td>\n",
       "      <td>72.77</td>\n",
       "      <td>23.77</td>\n",
       "      <td>49.00</td>\n",
       "    </tr>\n",
       "    <tr>\n",
       "      <th>1</th>\n",
       "      <td>01003</td>\n",
       "      <td>40872.0</td>\n",
       "      <td>13997.0</td>\n",
       "      <td>56480.0</td>\n",
       "      <td>72.37</td>\n",
       "      <td>24.78</td>\n",
       "      <td>47.59</td>\n",
       "      <td>52971.0</td>\n",
       "      <td>15599.0</td>\n",
       "      <td>69320.0</td>\n",
       "      <td>...</td>\n",
       "      <td>85338.0</td>\n",
       "      <td>77.36</td>\n",
       "      <td>21.59</td>\n",
       "      <td>55.77</td>\n",
       "      <td>72883.0</td>\n",
       "      <td>18458.0</td>\n",
       "      <td>95215.0</td>\n",
       "      <td>76.55</td>\n",
       "      <td>19.39</td>\n",
       "      <td>57.16</td>\n",
       "    </tr>\n",
       "    <tr>\n",
       "      <th>2</th>\n",
       "      <td>01005</td>\n",
       "      <td>5096.0</td>\n",
       "      <td>5188.0</td>\n",
       "      <td>10395.0</td>\n",
       "      <td>49.02</td>\n",
       "      <td>49.91</td>\n",
       "      <td>-0.89</td>\n",
       "      <td>5899.0</td>\n",
       "      <td>4832.0</td>\n",
       "      <td>10777.0</td>\n",
       "      <td>...</td>\n",
       "      <td>11509.0</td>\n",
       "      <td>48.22</td>\n",
       "      <td>51.37</td>\n",
       "      <td>-3.15</td>\n",
       "      <td>5454.0</td>\n",
       "      <td>4871.0</td>\n",
       "      <td>10469.0</td>\n",
       "      <td>52.10</td>\n",
       "      <td>46.53</td>\n",
       "      <td>5.57</td>\n",
       "    </tr>\n",
       "    <tr>\n",
       "      <th>3</th>\n",
       "      <td>01007</td>\n",
       "      <td>4273.0</td>\n",
       "      <td>2710.0</td>\n",
       "      <td>7101.0</td>\n",
       "      <td>60.17</td>\n",
       "      <td>38.16</td>\n",
       "      <td>22.01</td>\n",
       "      <td>5472.0</td>\n",
       "      <td>2089.0</td>\n",
       "      <td>7600.0</td>\n",
       "      <td>...</td>\n",
       "      <td>8420.0</td>\n",
       "      <td>72.83</td>\n",
       "      <td>26.15</td>\n",
       "      <td>46.68</td>\n",
       "      <td>6738.0</td>\n",
       "      <td>1874.0</td>\n",
       "      <td>8819.0</td>\n",
       "      <td>76.40</td>\n",
       "      <td>21.25</td>\n",
       "      <td>55.15</td>\n",
       "    </tr>\n",
       "    <tr>\n",
       "      <th>4</th>\n",
       "      <td>01009</td>\n",
       "      <td>12667.0</td>\n",
       "      <td>4977.0</td>\n",
       "      <td>17973.0</td>\n",
       "      <td>70.48</td>\n",
       "      <td>27.69</td>\n",
       "      <td>42.79</td>\n",
       "      <td>17386.0</td>\n",
       "      <td>3938.0</td>\n",
       "      <td>21504.0</td>\n",
       "      <td>...</td>\n",
       "      <td>24006.0</td>\n",
       "      <td>86.47</td>\n",
       "      <td>12.37</td>\n",
       "      <td>74.10</td>\n",
       "      <td>22859.0</td>\n",
       "      <td>2156.0</td>\n",
       "      <td>25588.0</td>\n",
       "      <td>89.33</td>\n",
       "      <td>8.43</td>\n",
       "      <td>80.90</td>\n",
       "    </tr>\n",
       "  </tbody>\n",
       "</table>\n",
       "<p>5 rows × 31 columns</p>\n",
       "</div>"
      ],
      "text/plain": [
       "    FIPS  gop_2000_votes  dem_2000_votes  totalvotes_2000  gop_2000_prc  \\\n",
       "0  01001         11993.0          4942.0          17208.0         69.69   \n",
       "1  01003         40872.0         13997.0          56480.0         72.37   \n",
       "2  01005          5096.0          5188.0          10395.0         49.02   \n",
       "3  01007          4273.0          2710.0           7101.0         60.17   \n",
       "4  01009         12667.0          4977.0          17973.0         70.48   \n",
       "\n",
       "   dem_2000_prc  gop_minus_dem_prc_2000  gop_2004_votes  dem_2004_votes  \\\n",
       "0         28.72                   40.97         15196.0          4758.0   \n",
       "1         24.78                   47.59         52971.0         15599.0   \n",
       "2         49.91                   -0.89          5899.0          4832.0   \n",
       "3         38.16                   22.01          5472.0          2089.0   \n",
       "4         27.69                   42.79         17386.0          3938.0   \n",
       "\n",
       "   totalvotes_2004  ...  totalvotes_2012  gop_2012_prc  dem_2012_prc  \\\n",
       "0          20081.0  ...          23932.0         72.62         26.59   \n",
       "1          69320.0  ...          85338.0         77.36         21.59   \n",
       "2          10777.0  ...          11509.0         48.22         51.37   \n",
       "3           7600.0  ...           8420.0         72.83         26.15   \n",
       "4          21504.0  ...          24006.0         86.47         12.37   \n",
       "\n",
       "   gop_minus_dem_prc_2012  gop_2016_votes  dem_2016_votes  totalvotes_2016  \\\n",
       "0                   46.03         18172.0          5936.0          24973.0   \n",
       "1                   55.77         72883.0         18458.0          95215.0   \n",
       "2                   -3.15          5454.0          4871.0          10469.0   \n",
       "3                   46.68          6738.0          1874.0           8819.0   \n",
       "4                   74.10         22859.0          2156.0          25588.0   \n",
       "\n",
       "   gop_2016_prc  dem_2016_prc  gop_minus_dem_prc_2016  \n",
       "0         72.77         23.77                   49.00  \n",
       "1         76.55         19.39                   57.16  \n",
       "2         52.10         46.53                    5.57  \n",
       "3         76.40         21.25                   55.15  \n",
       "4         89.33          8.43                   80.90  \n",
       "\n",
       "[5 rows x 31 columns]"
      ]
     },
     "execution_count": 11,
     "metadata": {},
     "output_type": "execute_result"
    }
   ],
   "source": [
    "url = 'https://raw.githubusercontent.com/thomaspingel/geodata/master/election/county_election_data_2000-2016.csv'\n",
    "county_election_df = pd.read_csv(url,dtype={'FIPS':str})\n",
    "county_election_df.head()"
   ]
  },
  {
   "cell_type": "code",
   "execution_count": 12,
   "metadata": {},
   "outputs": [],
   "source": [
    "# We can easily subset the dataset looking for particular columns\n",
    "\n",
    "which_cols = county_election_df.columns.str.contains('minus')\n",
    "df = county_election_df.loc[:,which_cols]"
   ]
  },
  {
   "cell_type": "code",
   "execution_count": 13,
   "metadata": {},
   "outputs": [
    {
     "data": {
      "text/plain": [
       "gop_minus_dem_prc_2000    51.299937\n",
       "gop_minus_dem_prc_2004    59.670260\n",
       "gop_minus_dem_prc_2008    55.263158\n",
       "gop_minus_dem_prc_2012    63.792010\n",
       "gop_minus_dem_prc_2016    77.362080\n",
       "dtype: float64"
      ]
     },
     "execution_count": 13,
     "metadata": {},
     "output_type": "execute_result"
    }
   ],
   "source": [
    "# What percent of counties have become landslide counties (those where the victory margin was 20% or more) \n",
    "# in the county record?\n",
    "\n",
    "100*np.sum(np.abs(df) > 20)/len(df)"
   ]
  },
  {
   "cell_type": "markdown",
   "metadata": {},
   "source": [
    "# Example: Joining to a geographic data set:"
   ]
  },
  {
   "cell_type": "code",
   "execution_count": 34,
   "metadata": {},
   "outputs": [
    {
     "ename": "DriverError",
     "evalue": "'/vsimem/0e2fe3c232a943139bb216d5d214ac0c' not recognized as a supported file format.",
     "output_type": "error",
     "traceback": [
      "\u001b[1;31m---------------------------------------------------------------------------\u001b[0m",
      "\u001b[1;31mCPLE_OpenFailedError\u001b[0m                      Traceback (most recent call last)",
      "\u001b[1;32mfiona/_shim.pyx\u001b[0m in \u001b[0;36mfiona._shim.gdal_open_vector\u001b[1;34m()\u001b[0m\n",
      "\u001b[1;32mfiona/_err.pyx\u001b[0m in \u001b[0;36mfiona._err.exc_wrap_pointer\u001b[1;34m()\u001b[0m\n",
      "\u001b[1;31mCPLE_OpenFailedError\u001b[0m: '/vsimem/0e2fe3c232a943139bb216d5d214ac0c' not recognized as a supported file format.",
      "\nDuring handling of the above exception, another exception occurred:\n",
      "\u001b[1;31mDriverError\u001b[0m                               Traceback (most recent call last)",
      "\u001b[1;32m<ipython-input-34-07d104bfc3cc>\u001b[0m in \u001b[0;36m<module>\u001b[1;34m\u001b[0m\n\u001b[0;32m      3\u001b[0m \u001b[1;33m\u001b[0m\u001b[0m\n\u001b[0;32m      4\u001b[0m \u001b[0murl\u001b[0m \u001b[1;33m=\u001b[0m \u001b[1;34m'https://github.com/thomaspingel/geodata/blob/master/cartographic_boundary_files/cb_2016_us_county_20m.gpkg'\u001b[0m\u001b[1;33m\u001b[0m\u001b[1;33m\u001b[0m\u001b[0m\n\u001b[1;32m----> 5\u001b[1;33m \u001b[0mcb_data\u001b[0m \u001b[1;33m=\u001b[0m \u001b[0mgeopandas\u001b[0m\u001b[1;33m.\u001b[0m\u001b[0mread_file\u001b[0m\u001b[1;33m(\u001b[0m\u001b[0murl\u001b[0m\u001b[1;33m)\u001b[0m\u001b[1;33m\u001b[0m\u001b[1;33m\u001b[0m\u001b[0m\n\u001b[0m",
      "\u001b[1;32mc:\\Anaconda3\\lib\\site-packages\\geopandas\\io\\file.py\u001b[0m in \u001b[0;36mread_file\u001b[1;34m(filename, bbox, **kwargs)\u001b[0m\n\u001b[0;32m     69\u001b[0m \u001b[1;33m\u001b[0m\u001b[0m\n\u001b[0;32m     70\u001b[0m     \u001b[1;32mwith\u001b[0m \u001b[0mfiona_env\u001b[0m\u001b[1;33m(\u001b[0m\u001b[1;33m)\u001b[0m\u001b[1;33m:\u001b[0m\u001b[1;33m\u001b[0m\u001b[1;33m\u001b[0m\u001b[0m\n\u001b[1;32m---> 71\u001b[1;33m         \u001b[1;32mwith\u001b[0m \u001b[0mreader\u001b[0m\u001b[1;33m(\u001b[0m\u001b[0mpath_or_bytes\u001b[0m\u001b[1;33m,\u001b[0m \u001b[1;33m**\u001b[0m\u001b[0mkwargs\u001b[0m\u001b[1;33m)\u001b[0m \u001b[1;32mas\u001b[0m \u001b[0mfeatures\u001b[0m\u001b[1;33m:\u001b[0m\u001b[1;33m\u001b[0m\u001b[1;33m\u001b[0m\u001b[0m\n\u001b[0m\u001b[0;32m     72\u001b[0m             \u001b[0mcrs\u001b[0m \u001b[1;33m=\u001b[0m \u001b[0mfeatures\u001b[0m\u001b[1;33m.\u001b[0m\u001b[0mcrs\u001b[0m\u001b[1;33m\u001b[0m\u001b[1;33m\u001b[0m\u001b[0m\n\u001b[0;32m     73\u001b[0m             \u001b[1;32mif\u001b[0m \u001b[0mbbox\u001b[0m \u001b[1;32mis\u001b[0m \u001b[1;32mnot\u001b[0m \u001b[1;32mNone\u001b[0m\u001b[1;33m:\u001b[0m\u001b[1;33m\u001b[0m\u001b[1;33m\u001b[0m\u001b[0m\n",
      "\u001b[1;32mc:\\Anaconda3\\lib\\site-packages\\fiona\\collection.py\u001b[0m in \u001b[0;36m__init__\u001b[1;34m(self, bytesbuf, **kwds)\u001b[0m\n\u001b[0;32m    541\u001b[0m         \u001b[1;31m# Instantiate the parent class.\u001b[0m\u001b[1;33m\u001b[0m\u001b[1;33m\u001b[0m\u001b[1;33m\u001b[0m\u001b[0m\n\u001b[0;32m    542\u001b[0m         super(BytesCollection, self).__init__(self.virtual_file, vsi=filetype,\n\u001b[1;32m--> 543\u001b[1;33m                                               encoding='utf-8', **kwds)\n\u001b[0m\u001b[0;32m    544\u001b[0m \u001b[1;33m\u001b[0m\u001b[0m\n\u001b[0;32m    545\u001b[0m     \u001b[1;32mdef\u001b[0m \u001b[0mclose\u001b[0m\u001b[1;33m(\u001b[0m\u001b[0mself\u001b[0m\u001b[1;33m)\u001b[0m\u001b[1;33m:\u001b[0m\u001b[1;33m\u001b[0m\u001b[1;33m\u001b[0m\u001b[0m\n",
      "\u001b[1;32mc:\\Anaconda3\\lib\\site-packages\\fiona\\collection.py\u001b[0m in \u001b[0;36m__init__\u001b[1;34m(self, path, mode, driver, schema, crs, encoding, layer, vsi, archive, enabled_drivers, crs_wkt, ignore_fields, ignore_geometry, **kwargs)\u001b[0m\n\u001b[0;32m    157\u001b[0m             \u001b[1;32mif\u001b[0m \u001b[0mself\u001b[0m\u001b[1;33m.\u001b[0m\u001b[0mmode\u001b[0m \u001b[1;33m==\u001b[0m \u001b[1;34m'r'\u001b[0m\u001b[1;33m:\u001b[0m\u001b[1;33m\u001b[0m\u001b[1;33m\u001b[0m\u001b[0m\n\u001b[0;32m    158\u001b[0m                 \u001b[0mself\u001b[0m\u001b[1;33m.\u001b[0m\u001b[0msession\u001b[0m \u001b[1;33m=\u001b[0m \u001b[0mSession\u001b[0m\u001b[1;33m(\u001b[0m\u001b[1;33m)\u001b[0m\u001b[1;33m\u001b[0m\u001b[1;33m\u001b[0m\u001b[0m\n\u001b[1;32m--> 159\u001b[1;33m                 \u001b[0mself\u001b[0m\u001b[1;33m.\u001b[0m\u001b[0msession\u001b[0m\u001b[1;33m.\u001b[0m\u001b[0mstart\u001b[0m\u001b[1;33m(\u001b[0m\u001b[0mself\u001b[0m\u001b[1;33m,\u001b[0m \u001b[1;33m**\u001b[0m\u001b[0mkwargs\u001b[0m\u001b[1;33m)\u001b[0m\u001b[1;33m\u001b[0m\u001b[1;33m\u001b[0m\u001b[0m\n\u001b[0m\u001b[0;32m    160\u001b[0m             \u001b[1;32melif\u001b[0m \u001b[0mself\u001b[0m\u001b[1;33m.\u001b[0m\u001b[0mmode\u001b[0m \u001b[1;32min\u001b[0m \u001b[1;33m(\u001b[0m\u001b[1;34m'a'\u001b[0m\u001b[1;33m,\u001b[0m \u001b[1;34m'w'\u001b[0m\u001b[1;33m)\u001b[0m\u001b[1;33m:\u001b[0m\u001b[1;33m\u001b[0m\u001b[1;33m\u001b[0m\u001b[0m\n\u001b[0;32m    161\u001b[0m                 \u001b[0mself\u001b[0m\u001b[1;33m.\u001b[0m\u001b[0msession\u001b[0m \u001b[1;33m=\u001b[0m \u001b[0mWritingSession\u001b[0m\u001b[1;33m(\u001b[0m\u001b[1;33m)\u001b[0m\u001b[1;33m\u001b[0m\u001b[1;33m\u001b[0m\u001b[0m\n",
      "\u001b[1;32mfiona/ogrext.pyx\u001b[0m in \u001b[0;36mfiona.ogrext.Session.start\u001b[1;34m()\u001b[0m\n",
      "\u001b[1;32mfiona/_shim.pyx\u001b[0m in \u001b[0;36mfiona._shim.gdal_open_vector\u001b[1;34m()\u001b[0m\n",
      "\u001b[1;31mDriverError\u001b[0m: '/vsimem/0e2fe3c232a943139bb216d5d214ac0c' not recognized as a supported file format."
     ]
    }
   ],
   "source": [
    "url = 'https://raw.githubusercontent.com/thomaspingel/geodata/master/election/county_election_data_2000-2016.csv'\n",
    "county_election_df = pd.read_csv(url,dtype={'FIPS':str})\n",
    "\n",
    "url = 'https://github.com/thomaspingel/geodata/blob/master/cartographic_boundary_files/cb_2016_us_county_20m.gpkg'\n",
    "cb_data = geopandas.read_file(url)"
   ]
  },
  {
   "cell_type": "code",
   "execution_count": 28,
   "metadata": {},
   "outputs": [],
   "source": [
    "election_gdf = cb_data.merge(county_election_df,left_on='GEOID',right_on='FIPS',how='left')"
   ]
  },
  {
   "cell_type": "code",
   "execution_count": 29,
   "metadata": {},
   "outputs": [
    {
     "name": "stderr",
     "output_type": "stream",
     "text": [
      "c:\\Anaconda3\\lib\\site-packages\\matplotlib\\colors.py:512: RuntimeWarning: invalid value encountered in less\n",
      "  xa[xa < 0] = -1\n"
     ]
    },
    {
     "data": {
      "text/plain": [
       "<matplotlib.axes._subplots.AxesSubplot at 0x1d9af1f7be0>"
      ]
     },
     "execution_count": 29,
     "metadata": {},
     "output_type": "execute_result"
    },
    {
     "data": {
      "image/png": "[encoded data removed]",
      "text/plain": [
       "<Figure size 432x288 with 1 Axes>"
      ]
     },
     "metadata": {
      "needs_background": "light"
     },
     "output_type": "display_data"
    }
   ],
   "source": [
    "election_gdf.plot(column='gop_minus_dem_prc_2016')"
   ]
  },
  {
   "cell_type": "code",
   "execution_count": 27,
   "metadata": {},
   "outputs": [
    {
     "data": {
      "text/plain": [
       "True"
      ]
     },
     "execution_count": 27,
     "metadata": {},
     "output_type": "execute_result"
    }
   ],
   "source": [
    "'02' in (cb_data.STATEFP.unique())"
   ]
  },
  {
   "cell_type": "code",
   "execution_count": 32,
   "metadata": {},
   "outputs": [
    {
     "data": {
      "text/plain": [
       "True"
      ]
     },
     "execution_count": 32,
     "metadata": {},
     "output_type": "execute_result"
    }
   ],
   "source": [
    "np.any(county_election_df['FIPS'].str.startswith('02'))"
   ]
  },
  {
   "cell_type": "code",
   "execution_count": null,
   "metadata": {},
   "outputs": [],
   "source": []
  }
 ],
 "metadata": {
  "kernelspec": {
   "display_name": "Python 3",
   "language": "python",
   "name": "python3"
  },
  "language_info": {
   "codemirror_mode": {
    "name": "ipython",
    "version": 3
   },
   "file_extension": ".py",
   "mimetype": "text/x-python",
   "name": "python",
   "nbconvert_exporter": "python",
   "pygments_lexer": "ipython3",
   "version": "3.7.3"
  }
 },
 "nbformat": 4,
 "nbformat_minor": 2
}
