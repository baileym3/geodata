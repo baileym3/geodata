{
 "cells": [
  {
   "cell_type": "code",
   "execution_count": 1,
   "metadata": {},
   "outputs": [],
   "source": [
    "import pandas as pd\n",
    "import numpy as np\n",
    "import geopandas\n",
    "\n",
    "%matplotlib inline"
   ]
  },
  {
   "cell_type": "code",
   "execution_count": 2,
   "metadata": {},
   "outputs": [],
   "source": [
    "baseurl = 'https://raw.githubusercontent.com/thomaspingel/geodata/master/county_health_rankings/chr_'\n",
    "field = 'Median household income - Household Income'\n",
    "\n",
    "df = pd.read_csv(baseurl + '2012.csv',dtype={'FIPS':str})\n",
    "df = df.loc[:,['FIPS',field]]\n",
    "df = df.rename(columns={field:field + '_2012'})\n",
    "\n",
    "df1 = pd.read_csv(baseurl + '2013.csv',dtype={'FIPS':str})\n",
    "df1 = df1.loc[:,['FIPS',field]]\n",
    "df1 = df1.rename(columns={field:field + '_2013'})\n",
    "df = df.merge(df1,how='left',on='FIPS')\n",
    "\n",
    "df1 = pd.read_csv(baseurl + '2014.csv',dtype={'FIPS':str})\n",
    "df1 = df1.loc[:,['FIPS',field]]\n",
    "df1 = df1.rename(columns={field:field + '_2014'})\n",
    "df = df.merge(df1,how='left',on='FIPS')\n",
    "\n",
    "df.to_csv('just_my_data.csv',index=False)"
   ]
  },
  {
   "cell_type": "code",
   "execution_count": 3,
   "metadata": {},
   "outputs": [
    {
     "data": {
      "text/html": [
       "<div>\n",
       "<style scoped>\n",
       "    .dataframe tbody tr th:only-of-type {\n",
       "        vertical-align: middle;\n",
       "    }\n",
       "\n",
       "    .dataframe tbody tr th {\n",
       "        vertical-align: top;\n",
       "    }\n",
       "\n",
       "    .dataframe thead th {\n",
       "        text-align: right;\n",
       "    }\n",
       "</style>\n",
       "<table border=\"1\" class=\"dataframe\">\n",
       "  <thead>\n",
       "    <tr style=\"text-align: right;\">\n",
       "      <th></th>\n",
       "      <th>FIPS</th>\n",
       "      <th>Median household income - Household Income_2012</th>\n",
       "      <th>Median household income - Household Income_2013</th>\n",
       "      <th>Median household income - Household Income_2014</th>\n",
       "    </tr>\n",
       "  </thead>\n",
       "  <tbody>\n",
       "    <tr>\n",
       "      <th>0</th>\n",
       "      <td>01001</td>\n",
       "      <td>53049.0</td>\n",
       "      <td>48863.0</td>\n",
       "      <td>51441.0</td>\n",
       "    </tr>\n",
       "    <tr>\n",
       "      <th>1</th>\n",
       "      <td>01003</td>\n",
       "      <td>47618.0</td>\n",
       "      <td>50144.0</td>\n",
       "      <td>48867.0</td>\n",
       "    </tr>\n",
       "    <tr>\n",
       "      <th>2</th>\n",
       "      <td>01005</td>\n",
       "      <td>33074.0</td>\n",
       "      <td>30117.0</td>\n",
       "      <td>30287.0</td>\n",
       "    </tr>\n",
       "    <tr>\n",
       "      <th>3</th>\n",
       "      <td>01007</td>\n",
       "      <td>35472.0</td>\n",
       "      <td>37347.0</td>\n",
       "      <td>37392.0</td>\n",
       "    </tr>\n",
       "    <tr>\n",
       "      <th>4</th>\n",
       "      <td>01009</td>\n",
       "      <td>42906.0</td>\n",
       "      <td>41940.0</td>\n",
       "      <td>44225.0</td>\n",
       "    </tr>\n",
       "  </tbody>\n",
       "</table>\n",
       "</div>"
      ],
      "text/plain": [
       "    FIPS  Median household income - Household Income_2012  \\\n",
       "0  01001                                          53049.0   \n",
       "1  01003                                          47618.0   \n",
       "2  01005                                          33074.0   \n",
       "3  01007                                          35472.0   \n",
       "4  01009                                          42906.0   \n",
       "\n",
       "   Median household income - Household Income_2013  \\\n",
       "0                                          48863.0   \n",
       "1                                          50144.0   \n",
       "2                                          30117.0   \n",
       "3                                          37347.0   \n",
       "4                                          41940.0   \n",
       "\n",
       "   Median household income - Household Income_2014  \n",
       "0                                          51441.0  \n",
       "1                                          48867.0  \n",
       "2                                          30287.0  \n",
       "3                                          37392.0  \n",
       "4                                          44225.0  "
      ]
     },
     "execution_count": 3,
     "metadata": {},
     "output_type": "execute_result"
    }
   ],
   "source": [
    "df.head()"
   ]
  }
 ],
 "metadata": {
  "kernelspec": {
   "display_name": "Python 3",
   "language": "python",
   "name": "python3"
  },
  "language_info": {
   "codemirror_mode": {
    "name": "ipython",
    "version": 3
   },
   "file_extension": ".py",
   "mimetype": "text/x-python",
   "name": "python",
   "nbconvert_exporter": "python",
   "pygments_lexer": "ipython3",
   "version": "3.7.3"
  }
 },
 "nbformat": 4,
 "nbformat_minor": 2
}
