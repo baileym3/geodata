{
 "cells": [
  {
   "cell_type": "code",
   "execution_count": null,
   "metadata": {
    "collapsed": true
   },
   "outputs": [],
   "source": [
    "import rasterio\n",
    "import numpy as np\n",
    "\n",
    "cellsize = .1\n",
    "xedges = np.arange(-180,180,cellsize)\n",
    "yedges = np.arange(90,-90,-cellsize)\n",
    "XI, YI = np.meshgrid(xi,yi)\n",
    "\n",
    "t = rasterio.transform.from_origin(xedges[0], yedges[0], cellsize, cellsize)\n",
    "\n",
    "with rasterio.open('latitude.tif', 'w', driver='GTiff', \n",
    "                             height=YI.shape[0], width=YI.shape[1],\n",
    "                             count=1, dtype=np.float32, transform=t) as src:\n",
    "    src.write(YI.astype(np.float32), 1)\n",
    "    \n",
    "with rasterio.open('latitude_abs.tif', 'w', driver='GTiff', \n",
    "                             height=YI.shape[0], width=YI.shape[1],\n",
    "                             count=1, dtype=np.float32, transform=t) as src:\n",
    "    src.write(np.abs(YI).astype(np.float32), 1)"
   ]
  }
 ],
 "metadata": {
  "kernelspec": {
   "display_name": "Python 3",
   "language": "python",
   "name": "python3"
  },
  "language_info": {
   "codemirror_mode": {
    "name": "ipython",
    "version": 3
   },
   "file_extension": ".py",
   "mimetype": "text/x-python",
   "name": "python",
   "nbconvert_exporter": "python",
   "pygments_lexer": "ipython3",
   "version": "3.6.3"
  }
 },
 "nbformat": 4,
 "nbformat_minor": 2
}
