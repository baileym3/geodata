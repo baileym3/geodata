{
 "cells": [
  {
   "cell_type": "markdown",
   "metadata": {},
   "source": [
    "This is a processing script to aggregate <a href=\"https://electionlab.mit.edu/data\">MIT's Election Data</a> for United States presidental election at the state and county levels.  I use this data for teaching an Analysis in GIS course at Virginia Tech."
   ]
  },
  {
   "cell_type": "code",
   "execution_count": 1,
   "metadata": {},
   "outputs": [],
   "source": [
    "import pandas as pd\n",
    "import numpy as np"
   ]
  },
  {
   "cell_type": "markdown",
   "metadata": {},
   "source": [
    "# County Election Data"
   ]
  },
  {
   "cell_type": "code",
   "execution_count": 2,
   "metadata": {},
   "outputs": [],
   "source": [
    "mit_data = pd.read_csv('original_data/countypres_2000-2016.csv',dtype={'FIPS':str})\n",
    "mit_data = mit_data[~mit_data['FIPS'].isnull()]\n",
    "mit_data['FIPS'] = mit_data.FIPS.str.zfill(5)"
   ]
  },
  {
   "cell_type": "code",
   "execution_count": 3,
   "metadata": {},
   "outputs": [],
   "source": [
    "presidential_candidates = {2000:{'gop':'George W. Bush','dem':'Al Gore'},\n",
    "                           2004:{'gop':'George W. Bush','dem':'John Kerry'},\n",
    "                           2008:{'gop':'John McCain','dem':'Barack Obama'},\n",
    "                           2012:{'gop':'Mitt Romney','dem':'Barack Obama'},\n",
    "                           2016:{'gop':'Donald Trump','dem':'Hillary Clinton'}\n",
    "                           }"
   ]
  },
  {
   "cell_type": "code",
   "execution_count": 4,
   "metadata": {},
   "outputs": [],
   "source": [
    "output_df = pd.DataFrame()\n",
    "output_df['FIPS'] = mit_data['FIPS'].unique()\n",
    "\n",
    "years = np.sort(list(presidential_candidates.keys()))\n",
    "\n",
    "for year in years:\n",
    "    # Pull this year as a dataframe, pull this year's candidates, and \n",
    "    # convert year to a string, since it will now be used to name fields\n",
    "    df=mit_data[mit_data['year']==year]\n",
    "    candidates = presidential_candidates[year]\n",
    "    year = str(year)\n",
    "\n",
    "    # Get candidate info for this year, rename\n",
    "    gop = df.candidate == candidates['gop']\n",
    "    gop = df.loc[gop,['FIPS','candidatevotes']]\n",
    "    gop = gop.rename(columns={'candidatevotes':'gop' + '_' + year + '_votes'})\n",
    "    dem = df.candidate == candidates['dem']\n",
    "    dem = df.loc[dem,['FIPS','candidatevotes','totalvotes']]\n",
    "    dem = dem.rename(columns={'candidatevotes':'dem' + '_' + year + '_votes'})\n",
    "    dem = dem.rename(columns={'totalvotes':'totalvotes' + '_' + year}) \n",
    "    \n",
    "    # Write this information to the output dataframe and calculate some fields\n",
    "    output_df = output_df.merge(gop,on='FIPS',how='left')\n",
    "    output_df = output_df.merge(dem,on='FIPS',how='left')\n",
    "    output_df['gop_' + year + '_prc'] = np.round(100 * output_df['gop_' + year + '_votes'] / output_df['totalvotes_' + year],decimals=2)\n",
    "    output_df['dem_' + year + '_prc'] = np.round(100 * output_df['dem_' + year + '_votes'] / output_df['totalvotes_' + year],decimals=2)\n",
    "    output_df['gop_minus_dem_prc_' + year] = output_df['gop_' + year + '_prc'] - output_df['dem_' + year + '_prc']\n",
    "\n",
    "    \n",
    "    \n",
    "output_df.to_csv('county_election_data_2000-2016.csv',index=False,float_format='%.2f')"
   ]
  },
  {
   "cell_type": "markdown",
   "metadata": {},
   "source": [
    "# State Election Data"
   ]
  },
  {
   "cell_type": "code",
   "execution_count": 11,
   "metadata": {},
   "outputs": [],
   "source": [
    "mit_data = pd.read_csv('original_data/1976-2016-president.csv',dtype={'state_fips':str})\n",
    "mit_data = mit_data[~mit_data['state_fips'].isnull()]\n",
    "mit_data['state_fips'] = mit_data.state_fips.str.zfill(2)"
   ]
  },
  {
   "cell_type": "code",
   "execution_count": 12,
   "metadata": {},
   "outputs": [],
   "source": [
    "presidential_candidates = {1976:{'gop':'Ford, Gerald','dem':'Carter, Jimmy'},\n",
    "                           1980:{'gop':'Reagan, Ronald','dem':'Carter, Jimmy'},\n",
    "                           1984:{'gop':'Reagan, Ronald','dem':'Mondale, Walter'},\n",
    "                           1988:{'gop':'Bush, George H.W.','dem':'Dukakis, Michael'},\n",
    "                           1992:{'gop':'Bush, George H.W.','dem':'Clinton, Bill'},\n",
    "                           1996:{'gop':'Dole, Robert','dem':'Clinton, Bill'},\n",
    "                           2000:{'gop':'Bush, George W.','dem':'Gore, Al'},\n",
    "                           2004:{'gop':'Bush, George W.','dem':'Kerry, John'},\n",
    "                           2008:{'gop':'McCain, John','dem':'Obama, Barack H.'},\n",
    "                           2012:{'gop':'Romney, Mitt','dem':'Obama, Barack H.'},\n",
    "                           2016:{'gop':'Trump, Donald J.','dem':'Clinton, Hillary'}\n",
    "                           }"
   ]
  },
  {
   "cell_type": "code",
   "execution_count": 13,
   "metadata": {},
   "outputs": [],
   "source": [
    "output_df = mit_data.loc[:,['state','state_po','state_fips']]\n",
    "output_df = output_df.drop_duplicates()\n",
    "\n",
    "years = np.sort(list(presidential_candidates.keys()))\n",
    "\n",
    "for year in years:\n",
    "    # Pull this year as a dataframe, pull this year's candidates, and \n",
    "    # convert year to a string, since it will now be used to name fields\n",
    "    df=mit_data[mit_data['year']==year]\n",
    "    candidates = presidential_candidates[year]\n",
    "    year = str(year)\n",
    "\n",
    "    # Get candidate info for this year, rename\n",
    "    gop = df.candidate == candidates['gop']\n",
    "    gop = df.loc[gop,['state_po','candidatevotes']]\n",
    "    gop = gop.groupby('state_po').sum()\n",
    "    gop = gop.rename(columns={'candidatevotes':'gop' + '_' + year + '_votes'})\n",
    "    dem = df.candidate == candidates['dem']\n",
    "    dem = df.loc[dem,['state_po','candidatevotes','totalvotes']]\n",
    "    dem = dem.groupby('state_po').sum()\n",
    "    dem = dem.rename(columns={'candidatevotes':'dem' + '_' + year + '_votes'})\n",
    "    dem = dem.rename(columns={'totalvotes':'totalvotes' + '_' + year}) \n",
    "    \n",
    "    # Write this information to the output dataframe and calculate some fields\n",
    "    output_df = output_df.merge(gop,on='state_po',how='left')\n",
    "    output_df = output_df.merge(dem,on='state_po',how='left')\n",
    "    output_df['gop_' + year + '_prc'] = np.round(100 * output_df['gop_' + year + '_votes'] / output_df['totalvotes_' + year],decimals=2)\n",
    "    output_df['dem_' + year + '_prc'] = np.round(100 * output_df['dem_' + year + '_votes'] / output_df['totalvotes_' + year],decimals=2)\n",
    "    output_df['gop_minus_dem_prc_' + year] = output_df['gop_' + year + '_prc'] - output_df['dem_' + year + '_prc']\n",
    "   \n"
   ]
  },
  {
   "cell_type": "code",
   "execution_count": 14,
   "metadata": {},
   "outputs": [],
   "source": [
    "output_df.to_csv('state_election_data_1976-2016.csv',index=False,float_format='%.2f')   "
   ]
  }
 ],
 "metadata": {
  "kernelspec": {
   "display_name": "Python 3",
   "language": "python",
   "name": "python3"
  },
  "language_info": {
   "codemirror_mode": {
    "name": "ipython",
    "version": 3
   },
   "file_extension": ".py",
   "mimetype": "text/x-python",
   "name": "python",
   "nbconvert_exporter": "python",
   "pygments_lexer": "ipython3",
   "version": "3.7.3"
  }
 },
 "nbformat": 4,
 "nbformat_minor": 2
}
